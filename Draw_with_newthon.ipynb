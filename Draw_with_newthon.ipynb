{
 "cells": [
  {
   "cell_type": "code",
   "execution_count": 7,
   "metadata": {},
   "outputs": [],
   "source": [
    "# Newton fractals\n",
    "from PIL import Image # Libreria que nos permite modificar imagenes\n",
    "# Pixeles de mi plano complejo\n",
    "imgx = 512\n",
    "imgy = 512\n",
    "image = Image.new(\"RGB\", (imgx, imgy))\n",
    "\n",
    "# Plano complejo\n",
    "xa = -1.0\n",
    "xb = 1.0\n",
    "ya = -1.0\n",
    "yb = 1.0\n",
    "\n",
    "maxIt = 20 # Iteraciones maximas permitidas\n",
    "h = 1e-6 # tamaño de paso para la derivada numerica\n",
    "eps = 1e-3 # Tolerancia de error\n",
    "\n",
    "# función compleja z\n",
    "def f(z):\n",
    "    return z**2+5\n",
    "\n",
    "# Visualizar el conjunto de julia\n",
    "for y in range(imgy):\n",
    "    zy = y * (yb - ya) / (imgy - 1) + ya # Se escoge la parte imaginaria de cada punto en el plano complejo pixeleado\n",
    "    for x in range(imgx):\n",
    "        zx = x * (xb - xa) / (imgx - 1) + xa # Se escoge la parte real de cada punto en el plano complejo pixeleado\n",
    "        z = complex(zx, zy) # Se toma el número complejo\n",
    "        for i in range(maxIt):\n",
    "            # Derivada de f\n",
    "            dz = (f(z + complex(h, h)) - f(z)) / complex(h, h)\n",
    "            z0 = z - f(z) / dz # Iteracion de Newton\n",
    "            if abs(z0 - z) < eps: # Para el bucle si estoy cerca de una raiz\n",
    "                break\n",
    "            z = z0 # Actualizo mi z0\n",
    "        image.putpixel((x, y), (i % 4 * 64, i % 8 * 32, i % 16 * 16)) # Le asigno un color a cada pixel\n",
    "\n",
    "image.show() # Disfrute del fractal!"
   ]
  },
  {
   "cell_type": "code",
   "execution_count": null,
   "metadata": {},
   "outputs": [],
   "source": []
  },
  {
   "cell_type": "code",
   "execution_count": null,
   "metadata": {},
   "outputs": [],
   "source": []
  }
 ],
 "metadata": {
  "kernelspec": {
   "display_name": "Python 3",
   "language": "python",
   "name": "python3"
  },
  "language_info": {
   "codemirror_mode": {
    "name": "ipython",
    "version": 3
   },
   "file_extension": ".py",
   "mimetype": "text/x-python",
   "name": "python",
   "nbconvert_exporter": "python",
   "pygments_lexer": "ipython3",
   "version": "3.8.5"
  }
 },
 "nbformat": 4,
 "nbformat_minor": 4
}
